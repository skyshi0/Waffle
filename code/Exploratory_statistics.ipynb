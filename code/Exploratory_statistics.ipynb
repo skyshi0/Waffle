{
 "cells": [
  {
   "cell_type": "code",
   "execution_count": 4,
   "id": "fe67bedf",
   "metadata": {},
   "outputs": [],
   "source": [
    "# Import libraries\n",
    "\n",
    "import pandas as pd\n",
    "import seaborn as sns\n",
    "import matplotlib.pyplot as plt\n",
    "from scipy.stats import ttest_ind\n",
    "\n",
    "# Import data\n",
    "\n",
    "final_df = pd.read_csv('/home/joao_sena_ribeiros/Documents/my_python_folder/Projects/NeuroMatch_CompNeuro_2025/Group Project/Waffle/preprocessed_data/final_df.csv')\n",
    "\n",
    "# Ensure 'paired' is treated as an integer\n",
    "# df['paired'] = df['paired'].astype(int)\n"
   ]
  },
  {
   "cell_type": "code",
   "execution_count": 3,
   "id": "abd14a03",
   "metadata": {},
   "outputs": [],
   "source": [
    "descriptive_stats = final_df.groupby('paired')[['duration', 'mean_speed', 'mean_acc', 'mean_rotation', 'mean_rotation_speed']].describe()"
   ]
  },
  {
   "cell_type": "code",
   "execution_count": null,
   "id": "68de011e",
   "metadata": {},
   "outputs": [],
   "source": [
    "# Visual Comparison (Boxplots)\n",
    "\n",
    "features = ['duration', 'mean_speed', 'mean_acc', 'mean_rotation', 'mean_rotation_speed']\n",
    "\n",
    "for feature in features:\n",
    "    plt.figure(figsize=(6,4))\n",
    "    sns.boxplot(data=df, x='paired', y=feature)\n",
    "    plt.title(f'{feature} by Paired (0=No Attack, 1=Attack)')\n",
    "    plt.xlabel('Paired')\n",
    "    plt.ylabel(feature)\n",
    "    plt.tight_layout()\n",
    "    plt.show()"
   ]
  },
  {
   "cell_type": "code",
   "execution_count": null,
   "id": "411bb64c",
   "metadata": {},
   "outputs": [],
   "source": [
    "# Correlation matrix\n",
    "\n",
    "corr = df.corr(numeric_only=True)\n",
    "sns.heatmap(corr, annot=True, cmap='coolwarm')\n",
    "plt.title(\"Correlation Matrix\")\n",
    "plt.show()"
   ]
  },
  {
   "cell_type": "code",
   "execution_count": null,
   "id": "348a52c9",
   "metadata": {},
   "outputs": [],
   "source": [
    "# t-test\n",
    "\n",
    "group0 = df[df['paired'] == 0]\n",
    "group1 = df[df['paired'] == 1]\n",
    "\n",
    "for feature in features:\n",
    "    stat, p = ttest_ind(group0[feature], group1[feature], equal_var=False)\n",
    "    print(f\"{feature}: t={stat:.2f}, p={p:.4f}\")"
   ]
  },
  {
   "cell_type": "code",
   "execution_count": null,
   "id": "d28d5034",
   "metadata": {},
   "outputs": [],
   "source": [
    "# My tryat predictive modeling\n",
    "\n",
    "from sklearn.model_selection import train_test_split\n",
    "from sklearn.linear_model import LogisticRegression\n",
    "from sklearn.metrics import classification_report\n",
    "\n",
    "X = df[features]\n",
    "y = df['paired']\n",
    "\n",
    "X_train, X_test, y_train, y_test = train_test_split(X, y, test_size=0.2, random_state=42)\n",
    "\n",
    "clf = LogisticRegression()\n",
    "clf.fit(X_train, y_train)\n",
    "\n",
    "y_pred = clf.predict(X_test)\n",
    "print(classification_report(y_test, y_pred))\n"
   ]
  }
 ],
 "metadata": {
  "kernelspec": {
   "display_name": ".venv",
   "language": "python",
   "name": "python3"
  },
  "language_info": {
   "codemirror_mode": {
    "name": "ipython",
    "version": 3
   },
   "file_extension": ".py",
   "mimetype": "text/x-python",
   "name": "python",
   "nbconvert_exporter": "python",
   "pygments_lexer": "ipython3",
   "version": "3.12.3"
  }
 },
 "nbformat": 4,
 "nbformat_minor": 5
}
