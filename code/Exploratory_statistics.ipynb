{
 "cells": [
  {
   "cell_type": "code",
   "execution_count": 11,
   "id": "fe67bedf",
   "metadata": {},
   "outputs": [],
   "source": [
    "# Import libraries\n",
    "\n",
    "import pandas as pd\n",
    "import seaborn as sns\n",
    "import matplotlib.pyplot as plt\n",
    "\n",
    "# Import data\n",
    "\n",
    "final_df = pd.read_csv('/home/joao_sena_ribeiros/Documents/my_python_folder/Projects/NeuroMatch_CompNeuro_2025/Group Project/Waffle/preprocessed_data/final_df.csv')\n",
    "\n",
    "# Ensure 'paired' is treated as an integer\n",
    "# df['paired'] = df['paired'].astype(int)\n"
   ]
  },
  {
   "cell_type": "code",
   "execution_count": 12,
   "id": "abd14a03",
   "metadata": {},
   "outputs": [],
   "source": [
    "descriptive_stats = df.groupby('paired')[['duration', 'mean_speed', 'mean_acc', 'mean_rotation', 'mean_rotation_speed']].describe()"
   ]
  }
 ],
 "metadata": {
  "kernelspec": {
   "display_name": ".venv",
   "language": "python",
   "name": "python3"
  },
  "language_info": {
   "codemirror_mode": {
    "name": "ipython",
    "version": 3
   },
   "file_extension": ".py",
   "mimetype": "text/x-python",
   "name": "python",
   "nbconvert_exporter": "python",
   "pygments_lexer": "ipython3",
   "version": "3.12.3"
  }
 },
 "nbformat": 4,
 "nbformat_minor": 5
}
